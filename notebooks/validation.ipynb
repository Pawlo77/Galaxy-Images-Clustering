{
 "cells": [
  {
   "cell_type": "code",
   "execution_count": 6,
   "metadata": {},
   "outputs": [],
   "source": [
    "from sklearn.cluster import KMeans\n",
    "import numpy as np\n",
    "from sklearn.decomposition import PCA\n",
    "from sklearn.metrics import davies_bouldin_score"
   ]
  },
  {
   "cell_type": "code",
   "execution_count": 7,
   "metadata": {},
   "outputs": [],
   "source": [
    "train_features = np.load('../data/X_train_encoded.npy')\n",
    "test_features = np.load('../data/X_test_encoded.npy')"
   ]
  },
  {
   "cell_type": "code",
   "execution_count": 8,
   "metadata": {},
   "outputs": [
    {
     "name": "stdout",
     "output_type": "stream",
     "text": [
      "Number of components to retain 99% variance: 8\n",
      "Shape of train features after PCA: (197181, 8)\n",
      "Shape of validation features after PCA: (21909, 8)\n"
     ]
    }
   ],
   "source": [
    "pca = PCA(n_components=0.99, random_state=42)\n",
    "train_features = pca.fit_transform(train_features)\n",
    "test_features = pca.transform(test_features)\n",
    "\n",
    "# Print the number of components to explain 90% of the variance\n",
    "n_components = pca.n_components_\n",
    "print(f\"Number of components to retain 99% variance: {n_components}\")\n",
    "\n",
    "# Verify the shapes of the transformed features\n",
    "print(f\"Shape of train features after PCA: {train_features.shape}\")\n",
    "print(f\"Shape of validation features after PCA: {test_features.shape}\")"
   ]
  },
  {
   "cell_type": "code",
   "execution_count": 10,
   "metadata": {},
   "outputs": [
    {
     "name": "stdout",
     "output_type": "stream",
     "text": [
      "Indeks Daviesa-Bouldina: 0.6986437934501969\n"
     ]
    }
   ],
   "source": [
    "n_clusters = 6\n",
    "kmeans = KMeans(n_clusters=n_clusters, random_state=42)\n",
    "kmeans.fit_predict(train_features)\n",
    "cluster_labels = kmeans.predict(test_features)\n",
    "db_index = davies_bouldin_score(test_features, cluster_labels)\n",
    "print(f\"Indeks Daviesa-Bouldina: {db_index}\")"
   ]
  }
 ],
 "metadata": {
  "kernelspec": {
   "display_name": "myenv",
   "language": "python",
   "name": "python3"
  },
  "language_info": {
   "codemirror_mode": {
    "name": "ipython",
    "version": 3
   },
   "file_extension": ".py",
   "mimetype": "text/x-python",
   "name": "python",
   "nbconvert_exporter": "python",
   "pygments_lexer": "ipython3",
   "version": "3.12.2"
  }
 },
 "nbformat": 4,
 "nbformat_minor": 2
}
